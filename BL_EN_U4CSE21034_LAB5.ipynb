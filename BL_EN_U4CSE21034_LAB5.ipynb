{
  "nbformat": 4,
  "nbformat_minor": 0,
  "metadata": {
    "colab": {
      "provenance": [],
      "authorship_tag": "ABX9TyNetfwvKBS5pVnC98K6tvtM",
      "include_colab_link": true
    },
    "kernelspec": {
      "name": "python3",
      "display_name": "Python 3"
    },
    "language_info": {
      "name": "python"
    }
  },
  "cells": [
    {
      "cell_type": "markdown",
      "metadata": {
        "id": "view-in-github",
        "colab_type": "text"
      },
      "source": [
        "<a href=\"https://colab.research.google.com/github/Vishwak257/MLlab/blob/main/BL_EN_U4CSE21034_LAB5.ipynb\" target=\"_parent\"><img src=\"https://colab.research.google.com/assets/colab-badge.svg\" alt=\"Open In Colab\"/></a>"
      ]
    },
    {
      "cell_type": "code",
      "execution_count": null,
      "metadata": {
        "id": "YNWu-ilghl5v"
      },
      "outputs": [],
      "source": [
        "import pandas as pd\n",
        "from sklearn.ensemble import IsolationForest\n",
        "\n",
        "# Load your dataset from a CSV file (replace 'your_data.csv' with your file)\n",
        "data = pd.read_csv('your_data.csv')\n",
        "\n",
        "# Select the features you want to use for anomaly detection (assuming columns 'feature1' and 'feature2')\n",
        "X = data[['feature1', 'feature2']]\n",
        "\n",
        "# Create an Isolation Forest model\n",
        "clf = IsolationForest(contamination=0.05)  # Adjust the contamination parameter as needed\n",
        "\n",
        "# Fit the model to your data\n",
        "clf.fit(X)\n",
        "\n",
        "# Predict anomalies (1 for inliers, -1 for outliers)\n",
        "predictions = clf.predict(X)\n",
        "\n",
        "# Add the predictions as a new column in your DataFrame\n",
        "data['anomaly'] = predictions\n",
        "\n",
        "# Print or save the data with anomaly labels\n",
        "print(data)\n"
      ]
    }
  ]
}